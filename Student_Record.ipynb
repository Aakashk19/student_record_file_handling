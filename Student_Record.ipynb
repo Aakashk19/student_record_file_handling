{
 "cells": [
  {
   "cell_type": "code",
   "execution_count": null,
   "metadata": {},
   "outputs": [],
   "source": [
    "list1 = ['one','three','four','five','six']\n",
    "list2 = [1,2,3,4,5,6]\n",
    "list3 = ['a','b','c','d','e','f']\n",
    "list4 = [['apple'],['mango'],['grapes']]\n",
    "list5 = ['aakash',23, 1.6,'a']\n",
    "print(list5[-4])"
   ]
  },
  {
   "cell_type": "code",
   "execution_count": null,
   "metadata": {},
   "outputs": [],
   "source": []
  },
  {
   "cell_type": "code",
   "execution_count": 1,
   "metadata": {},
   "outputs": [
    {
     "name": "stdout",
     "output_type": "stream",
     "text": [
      "hello\n"
     ]
    }
   ],
   "source": [
    "print('hello')"
   ]
  },
  {
   "cell_type": "code",
   "execution_count": 14,
   "metadata": {},
   "outputs": [],
   "source": [
    "import os\n",
    "class student:\n",
    "    \n",
    "    def __init__(self):\n",
    "        \n",
    "        self.name = input(\"Enter The Name: \")\n",
    "        self.classno = input(\"Enter The Class No: \")\n",
    "        self.age = input(\"Enter The Age: \")        \n",
    "        self.roll_no = input(\"Enter The Roll no: \")        \n",
    "        self.marks = input(\"Enter The Marks: \")\n",
    "        with open(f'C:/Users/Admin/Desktop/test1/{self.roll_no}.txt', 'w') as file1:\n",
    "\n",
    "            file1.write('Name of the Student:'+ self.name+\"\\n\")\n",
    "            file1.write('Class of the Student:'+ self.classno+\"\\n\")\n",
    "            file1.write('Age of Student:'+ str(self.age)+\"\\n\")\n",
    "            file1.write('Roll no of the Student:'+ str(self.roll_no)+\"\\n\")\n",
    "            file1.write('Marks of the Student:'+ str(self.marks))\n",
    "\n",
    "    \n",
    "         \n",
    "            \n",
    "    def displayStudent(self):                   \n",
    "        file_s = input(\"Enter The Roll no: \")\n",
    "        print(file_s)\n",
    "        file_s = file_s +'.txt'\n",
    "        print(file_s)\n",
    "        file_path = os.listdir(\"C:\\\\Users\\\\Admin\\\\Desktop\\\\test1\\\\\")\n",
    "\n",
    "\n",
    "        print(file_path)\n",
    "        if file_s in file_path:\n",
    "            print(\"Successfully Matched!\")\n",
    "            with open(f'C:/Users/Admin/Desktop/test1/{file_s}', 'r') as file2:\n",
    "                print(\"------ Student Details are below -----------\\n\")\n",
    "                data_st = file2.read()\n",
    "                print(data_st)\n",
    "                \n",
    "                #file2.read(self.age)\n",
    "                #file2.read(self.roll_no)\n",
    "                #file2.read(self.marks)\n",
    "        else:\n",
    "            print(\"File Not Exist\")\n",
    "             \n",
    "    \n",
    "    def showAllDetails(self):\n",
    "        file_path = os.listdir(\"C:\\\\Users\\\\Admin\\\\Desktop\\\\test1\\\\\")\n",
    "        for file in file_path:\n",
    "            with open(f'C:/Users/Admin/Desktop/test1/{file}', 'r') as file2:\n",
    "                print(\"------ Student Details are below -----------\\n\")\n",
    "                data_st = file2.read()\n",
    "                print(data_st)\n",
    "            \n",
    "        \n",
    "    \n",
    "    def delStudent(self):\n",
    "        file_s = input(\"Enter The Roll No: \")\n",
    "        file_path = os.path.join(\"C:\\\\Users\\\\Admin\\\\Desktop\\\\test1\\\\\")\n",
    "        file_path = file_path + file_s + '.txt'\n",
    "        print(file_path)\n",
    "        if file_s in file_path:\n",
    "            os.remove(file_path)\n",
    "            print(\"Successfully Deleted!\")\n",
    "        else:\n",
    "            print(\"File Not Exist\")\n",
    "    \n",
    "    \n",
    "\n",
    "\n",
    "\n"
   ]
  },
  {
   "cell_type": "code",
   "execution_count": 16,
   "metadata": {},
   "outputs": [
    {
     "name": "stdout",
     "output_type": "stream",
     "text": [
      "Enter The Name: aaka\n",
      "Enter The Class No: 12\n",
      "Enter The Age: 123\n",
      "Enter The Roll no: 11\n",
      "Enter The Marks: 123\n"
     ]
    }
   ],
   "source": [
    "std = student()"
   ]
  },
  {
   "cell_type": "code",
   "execution_count": 13,
   "metadata": {},
   "outputs": [
    {
     "name": "stdout",
     "output_type": "stream",
     "text": [
      "Enter The File Name: 11\n",
      "C:\\Users\\Admin\\Desktop\\test1\\11.txt\n",
      "Successfully Deleted!\n"
     ]
    }
   ],
   "source": [
    "std.delStudent()"
   ]
  },
  {
   "cell_type": "code",
   "execution_count": 9,
   "metadata": {},
   "outputs": [
    {
     "name": "stdout",
     "output_type": "stream",
     "text": [
      "Enter The Roll no: 009\n",
      "009\n",
      "009.txt\n",
      "['009.txt', '11.txt', '1234.txt', '22.txt']\n",
      "Successfully Matched!\n",
      "------ Student Details are below -----------\n",
      "\n",
      "Name of the Student:aakash\n",
      "Class of the Student:123\n",
      "Age of Student:123\n",
      "Roll no of the Student:009\n",
      "Marks of the Student:22\n"
     ]
    }
   ],
   "source": [
    "std.displayStudent()"
   ]
  },
  {
   "cell_type": "code",
   "execution_count": 17,
   "metadata": {},
   "outputs": [
    {
     "name": "stdout",
     "output_type": "stream",
     "text": [
      "------ Student Details are below -----------\n",
      "\n",
      "Name of the Student:aakash\n",
      "Class of the Student:123\n",
      "Age of Student:123\n",
      "Roll no of the Student:009\n",
      "Marks of the Student:22\n",
      "------ Student Details are below -----------\n",
      "\n",
      "Name of the Student:aaka\n",
      "Class of the Student:12\n",
      "Age of Student:123\n",
      "Roll no of the Student:11\n",
      "Marks of the Student:123\n",
      "------ Student Details are below -----------\n",
      "\n",
      "Name of the Student:aakash\n",
      "Class of the Student:12\n",
      "Age of Student:23\n",
      "Roll no of the Student:1234\n",
      "Marks of the Student:123\n"
     ]
    }
   ],
   "source": [
    "std.showAlldetails()"
   ]
  },
  {
   "cell_type": "code",
   "execution_count": 8,
   "metadata": {},
   "outputs": [],
   "source": [
    "file_s = '1234' + '.txt'"
   ]
  },
  {
   "cell_type": "code",
   "execution_count": 3,
   "metadata": {},
   "outputs": [
    {
     "name": "stdout",
     "output_type": "stream",
     "text": [
      "    * \r\n",
      "   * * \r\n",
      "  * * * \r\n",
      " * * * * \r\n",
      "* * * * * \r\n"
     ]
    }
   ],
   "source": [
    "def triangle(n):\n",
    "     \n",
    "    # number of spaces\n",
    "    k = n - 1\n",
    " \n",
    "    # outer loop to handle number of rows\n",
    "    for i in range(0, n):\n",
    "     \n",
    "        # inner loop to handle number spaces\n",
    "        # values changing acc. to requirement\n",
    "        for j in range(0, k):\n",
    "            print(end=\" \")\n",
    "     \n",
    "        # decrementing k after each loop\n",
    "        k = k - 1\n",
    "     \n",
    "        # inner loop to handle number of columns\n",
    "        # values changing acc. to outer loop\n",
    "        for j in range(0, i+1):\n",
    "         \n",
    "            # printing stars\n",
    "            print(\"* \", end=\"\")\n",
    "     \n",
    "        # ending line after each row\n",
    "        print(\"\\r\")\n",
    " \n",
    "# Driver Code\n",
    "n = 5\n",
    "triangle(n)"
   ]
  },
  {
   "cell_type": "code",
   "execution_count": 9,
   "metadata": {},
   "outputs": [
    {
     "name": "stdout",
     "output_type": "stream",
     "text": [
      " "
     ]
    }
   ],
   "source": [
    "print(end=\" \")"
   ]
  },
  {
   "cell_type": "code",
   "execution_count": null,
   "metadata": {},
   "outputs": [],
   "source": [
    "*\n",
    "**\n",
    "***\n",
    "**\n",
    "*"
   ]
  },
  {
   "cell_type": "code",
   "execution_count": 1,
   "metadata": {},
   "outputs": [
    {
     "name": "stdout",
     "output_type": "stream",
     "text": [
      "5\n",
      "   *   \n",
      "  ***  \n",
      " ***** \n",
      "  ***  \n",
      "   *   \n"
     ]
    }
   ],
   "source": [
    "n = int(input())\n",
    "mid = n//2+1\n",
    "space = n//2\n",
    "star = 1\n",
    "for i in range(mid):\n",
    "    # \"  \"\n",
    "    print(\" \"*space, \"*\"*star, \" \"*space)\n",
    "    star += 2\n",
    "    space -= 1\n",
    "\n",
    "space=1\n",
    "star = n-2\n",
    "for i in range(mid-1):\n",
    "    print(\" \"*space, \"*\"*star, \" \"*space)\n",
    "    star -= 2\n",
    "    space += 1"
   ]
  },
  {
   "cell_type": "markdown",
   "metadata": {},
   "source": [
    "n = int(input())\n",
    "mid = n\n",
    "space = n//2-2\n",
    "star = 1\n",
    "for i in range(mid):\n",
    "    # \"  \"\n",
    "    print(\"*\"*star, \" \"*space)\n",
    "    star = star + 1\n",
    "    space = star - 1\n",
    "\n",
    "space=1\n",
    "star = n-1\n",
    "for i in range(mid-1):\n",
    "    print(\"*\"*star, \" \"*space)\n",
    "    star = star - 1\n",
    "    space = space + 1"
   ]
  },
  {
   "cell_type": "code",
   "execution_count": 1,
   "metadata": {},
   "outputs": [
    {
     "name": "stdout",
     "output_type": "stream",
     "text": [
      "6\n",
      "*  \n",
      "** \n",
      "*** \n",
      "**** \n",
      "***** \n",
      "****** \n",
      "*****  \n",
      "****   \n",
      "***    \n",
      "**     \n",
      "*      \n"
     ]
    }
   ],
   "source": [
    "n = int(input())\n",
    "mid = n\n",
    "space = n//2-2\n",
    "star = 1\n",
    "for i in range(mid):\n",
    "    # \"  \"\n",
    "    print(\"*\"*star, \" \"*space)\n",
    "    star += 1\n",
    "    space -= 1\n",
    "\n",
    "space=1\n",
    "star = n - 1\n",
    "for i in range(mid-1):\n",
    "    print(\"*\"*star, \" \"*space)\n",
    "    star -= 1\n",
    "    space += 1"
   ]
  },
  {
   "cell_type": "code",
   "execution_count": 2,
   "metadata": {},
   "outputs": [
    {
     "name": "stdout",
     "output_type": "stream",
     "text": [
      "5\n",
      "   A   \n"
     ]
    },
    {
     "ename": "TypeError",
     "evalue": "can only concatenate str (not \"int\") to str",
     "output_type": "error",
     "traceback": [
      "\u001b[1;31m---------------------------------------------------------------------------\u001b[0m",
      "\u001b[1;31mTypeError\u001b[0m                                 Traceback (most recent call last)",
      "\u001b[1;32m<ipython-input-2-361a5ce674a8>\u001b[0m in \u001b[0;36m<module>\u001b[1;34m\u001b[0m\n\u001b[0;32m      7\u001b[0m     \u001b[0mch\u001b[0m \u001b[1;33m=\u001b[0m \u001b[0mchr\u001b[0m\u001b[1;33m(\u001b[0m\u001b[0mnum\u001b[0m\u001b[1;33m)\u001b[0m\u001b[1;33m\u001b[0m\u001b[1;33m\u001b[0m\u001b[0m\n\u001b[0;32m      8\u001b[0m     \u001b[0mprint\u001b[0m\u001b[1;33m(\u001b[0m\u001b[1;34m\" \"\u001b[0m\u001b[1;33m*\u001b[0m\u001b[0mspace\u001b[0m\u001b[1;33m,\u001b[0m \u001b[0mch\u001b[0m\u001b[1;33m,\u001b[0m \u001b[1;34m\" \"\u001b[0m\u001b[1;33m*\u001b[0m\u001b[0mspace\u001b[0m\u001b[1;33m)\u001b[0m\u001b[1;33m\u001b[0m\u001b[1;33m\u001b[0m\u001b[0m\n\u001b[1;32m----> 9\u001b[1;33m     \u001b[0mch\u001b[0m \u001b[1;33m+=\u001b[0m \u001b[1;36m1\u001b[0m\u001b[1;33m\u001b[0m\u001b[1;33m\u001b[0m\u001b[0m\n\u001b[0m\u001b[0;32m     10\u001b[0m     \u001b[0mspace\u001b[0m \u001b[1;33m-=\u001b[0m \u001b[1;36m1\u001b[0m\u001b[1;33m\u001b[0m\u001b[1;33m\u001b[0m\u001b[0m\n\u001b[0;32m     11\u001b[0m \u001b[1;33m\u001b[0m\u001b[0m\n",
      "\u001b[1;31mTypeError\u001b[0m: can only concatenate str (not \"int\") to str"
     ]
    }
   ],
   "source": [
    "n = int(input())\n",
    "mid = n//2+1\n",
    "space = n//2\n",
    "for i in range(mid):\n",
    "    # \"  \"\n",
    "    num = 65\n",
    "    ch = chr(num)\n",
    "    print(\" \"*space, ch, \" \"*space)\n",
    "    ch += 1\n",
    "    space -= 1\n",
    "\n",
    "#space=1\n",
    "#star = n-2\n",
    "#for i in range(mid-1):\n",
    "    #print(\" \"*space, \"*\"*star, \" \"*space)\n",
    "    #star -= 2\n",
    "    #space += 1"
   ]
  },
  {
   "cell_type": "code",
   "execution_count": 1,
   "metadata": {},
   "outputs": [],
   "source": [
    "import os\n",
    "import mysql.connector\n",
    "\n",
    "mydb = mysql.connector.connect(\n",
    "  host=\"localhost\",\n",
    "  user=\"root\",\n",
    "  password=\"Aakash@9899\",\n",
    "  database=\"student_record\"\n",
    "  \n",
    ")\n",
    "\n",
    "mycursor = mydb.cursor()\n",
    "\n",
    "class student:\n",
    "    \n",
    "    def __init__(self):\n",
    "        \n",
    "        self.name = input(\"Enter The Name: \")\n",
    "        self.classno = input(\"Enter The Class No: \")\n",
    "        self.age = input(\"Enter The Age: \")        \n",
    "        #self.roll_no = input(\"Enter The Roll no: \")        \n",
    "        self.marks = input(\"Enter The Marks: \")\n",
    "        query = \"INSERT INTO students (name,class,age,marks) VALUES(%s,%s,%s,%s)\"\n",
    "        val = (self.name, self.classno,self.age,self.marks)\n",
    "        mycursor.execute(query,val)\n",
    "        mydb.commit()\n",
    "        print(mycursor.rowcount)\n",
    "    \n",
    "         \n",
    "            \n",
    "    def displayStudent(self):                   \n",
    "        rollno = input(\"Enter The Roll no: \")\n",
    "        mycursor.execute(\"select * from students where roll_no = %s\",(rollno,))\n",
    "        myresult = mycursor.fetchall()\n",
    "        if myresult:\n",
    "            for x in myresult:\n",
    "                print(x)\n",
    "        else:\n",
    "            print(\"Record does not exist\")\n",
    "\n",
    "    \n",
    "    def showAllDetails(self):\n",
    "            mycursor.execute('select * from students order by name')\n",
    "            myresult = mycursor.fetchall()\n",
    "            \n",
    "            if myresult:\n",
    "                for x in myresult:\n",
    "                    print(x)\n",
    "            else:\n",
    "                print(\"No Records in the table!\")\n",
    "                \n",
    "    def updateDetails(self):\n",
    "        \n",
    "        update_name = input(\"Enter The Name: \")\n",
    "        update_class = input(\"Enter The Class: \")\n",
    "        update_age = input(\"Enter The Age: \")\n",
    "        update_marks = input(\"Enter Marks: \")\n",
    "        update_rollno = input(\"Enter The Roll no: \")\n",
    "        mycursor.execute(\"update students set name = %s, class = %s, age = %s, marks = %s where roll_no = %s\",(update_name,update_class,update_age,update_marks,update_rollno))\n",
    "        mydb.commit()\n",
    "        print(mycursor.rowcount, \"record(s) affected\")\n",
    "        \n",
    "        \n",
    "        \n",
    "    \n",
    "    def delStudent(self):\n",
    "        del_data = input(\"Enter The Roll No: \")\n",
    "        mycursor.execute(\"delete from students where roll_no = %s\",(del_data,))\n",
    "        #myresult = mycursor.fetchall()\n",
    "        mydb.commit()\n",
    "        print(mycursor.rowcount, \"record(s) deleted\")\n",
    "        \n",
    "    \n"
   ]
  },
  {
   "cell_type": "code",
   "execution_count": 2,
   "metadata": {},
   "outputs": [
    {
     "name": "stdout",
     "output_type": "stream",
     "text": [
      "Enter The Name: t\n",
      "Enter The Class No: 87\n",
      "Enter The Age: 88\n",
      "Enter The Marks: 67\n",
      "1\n"
     ]
    }
   ],
   "source": [
    "stu = student()"
   ]
  },
  {
   "cell_type": "code",
   "execution_count": 5,
   "metadata": {},
   "outputs": [
    {
     "name": "stdout",
     "output_type": "stream",
     "text": [
      "(27, 'aa', 77, 99, 77)\n",
      "(2, 'Aakash', 12, 25, 200)\n",
      "(3, 'Aakash', 12, 25, 200)\n",
      "(4, 'aakash', 12, 24, 23)\n",
      "(14, 'aakash', 45, 10, 334)\n",
      "(31, 'aakasjsjs', 55, 55, 67)\n",
      "(26, 'aakhh', 56, 78, 66)\n",
      "(18, 'aarti', 78, 66, 568)\n",
      "(12, 'abab', 12, 22, 22)\n",
      "(23, 'abc', 22, 22, 22)\n",
      "(1, 'abhinav', 12, 23, 33)\n",
      "(8, 'abhishek', 12, 22, 22)\n",
      "(13, 'abhishek', 13, 23, 2234)\n",
      "(28, 'agag', 44, 55, 66)\n",
      "(30, 'agaga', 44, 565, 55)\n",
      "(33, 'akak', 34, 44, 44)\n",
      "(25, 'ass', 344, 44, 55)\n",
      "(44, 'e', 3, 3, 3)\n",
      "(40, 'ff', 33, 33, 45)\n",
      "(39, 'fgf', 56, 67, 66)\n",
      "(32, 'fhfh', 45, 45, 55)\n",
      "(42, 'g', 45, 55, 56)\n",
      "(43, 'h', 5, 5, 5)\n",
      "(29, 'hhh', 87, 99, 88)\n",
      "(37, 'jaha', 33, 33, 33)\n",
      "(34, 'jeet', 45, 55, 55)\n",
      "(38, 'jjhd', 34, 55, 55)\n",
      "(24, 'kajal', 56, 66, 66)\n",
      "(21, 'kavya', 34, 556, 678)\n",
      "(36, 'lalit', 23, 33, 33)\n",
      "(47, 'qwer', 23, 23, 23)\n",
      "(45, 'r', 3, 4, 5)\n",
      "(17, 'rakesh', 22, 1245, 45)\n",
      "(11, 'rana', 12, 2, 2)\n",
      "(9, 'ravi', 12, 22, 34)\n",
      "(19, 'ravi', 22, 3545, 3345)\n",
      "(41, 's', 45, 55, 55)\n",
      "(15, 'simran', 12, 22, 890)\n",
      "(35, 'ss', 23, 33, 33)\n",
      "(48, 't', 87, 88, 67)\n",
      "(20, 'vaibhav', 12, 22, 22)\n",
      "(16, 'vikas', 12, 22, 2345)\n",
      "(5, 'vikas', 12, 23, 22)\n",
      "(10, 'vikki', 22, 234, 12)\n",
      "(7, 'vishal', 12, 24, 22)\n",
      "(46, 'w', 2, 3, 4)\n"
     ]
    }
   ],
   "source": [
    "stu.showAllDetails()"
   ]
  },
  {
   "cell_type": "code",
   "execution_count": 6,
   "metadata": {},
   "outputs": [
    {
     "name": "stdout",
     "output_type": "stream",
     "text": [
      "Enter The Roll no: 1\n",
      "(1, 'abhinav', 12, 23, 33)\n"
     ]
    }
   ],
   "source": [
    "stu.displayStudent()"
   ]
  },
  {
   "cell_type": "code",
   "execution_count": 13,
   "metadata": {},
   "outputs": [
    {
     "name": "stdout",
     "output_type": "stream",
     "text": [
      "Enter The Roll No: 22\n",
      "1 record(s) deleted\n"
     ]
    }
   ],
   "source": [
    "stu.delStudent()"
   ]
  },
  {
   "cell_type": "code",
   "execution_count": 4,
   "metadata": {},
   "outputs": [
    {
     "name": "stdout",
     "output_type": "stream",
     "text": [
      "Enter The Name: abhinav\n",
      "Enter The Class: 12\n",
      "Enter The Age: 23\n",
      "Enter Marks: 33\n",
      "Enter The Roll no: 1\n",
      "1 record(s) affected\n"
     ]
    }
   ],
   "source": [
    "stu.updateDetails()"
   ]
  },
  {
   "cell_type": "code",
   "execution_count": null,
   "metadata": {},
   "outputs": [],
   "source": []
  },
  {
   "cell_type": "code",
   "execution_count": null,
   "metadata": {},
   "outputs": [],
   "source": []
  },
  {
   "cell_type": "code",
   "execution_count": null,
   "metadata": {},
   "outputs": [],
   "source": []
  },
  {
   "cell_type": "code",
   "execution_count": null,
   "metadata": {},
   "outputs": [],
   "source": []
  }
 ],
 "metadata": {
  "kernelspec": {
   "display_name": "Python 3",
   "language": "python",
   "name": "python3"
  },
  "language_info": {
   "codemirror_mode": {
    "name": "ipython",
    "version": 3
   },
   "file_extension": ".py",
   "mimetype": "text/x-python",
   "name": "python",
   "nbconvert_exporter": "python",
   "pygments_lexer": "ipython3",
   "version": "3.7.8"
  }
 },
 "nbformat": 4,
 "nbformat_minor": 4
}
